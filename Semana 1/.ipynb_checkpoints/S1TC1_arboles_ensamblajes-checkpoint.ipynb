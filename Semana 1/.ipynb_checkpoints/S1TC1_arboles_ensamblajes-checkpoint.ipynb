{
 "cells": [
  {
   "cell_type": "markdown",
   "metadata": {},
   "source": [
    "![image info](https://raw.githubusercontent.com/albahnsen/MIAD_ML_and_NLP/main/images/banner_1.png)"
   ]
  },
  {
   "cell_type": "markdown",
   "metadata": {},
   "source": [
    "# Taller: Construcción e implementación de árboles de decisión y métodos de ensamblaje\n",
    "\n",
    "En este taller podrá poner en práctica los sus conocimientos sobre construcción e implementación de árboles de decisión y métodos de ensamblajes. El taller está constituido por 9 puntos, 5 relacionados con árboles de decisión (parte A) y 4 con métodos de ensamblaje (parte B)."
   ]
  },
  {
   "cell_type": "markdown",
   "metadata": {},
   "source": [
    "## Parte A - Árboles de decisión\n",
    "\n",
    "En esta parte del taller se usará el conjunto de datos de Capital Bikeshare de Kaggle, donde cada observación representa el alquiler de bicicletas durante una hora y día determinado. Para más detalles puede visitar los siguientes enlaces: [datos](https://archive.ics.uci.edu/ml/machine-learning-databases/00275/Bike-Sharing-Dataset.zip), [dicccionario de datos](https://archive.ics.uci.edu/ml/datasets/Bike+Sharing+Dataset#)."
   ]
  },
  {
   "cell_type": "markdown",
   "metadata": {},
   "source": [
    "### Datos prestamo de bicicletas"
   ]
  },
  {
   "cell_type": "code",
   "execution_count": 1,
   "metadata": {},
   "outputs": [],
   "source": [
    "import warnings\n",
    "warnings.filterwarnings('ignore')"
   ]
  },
  {
   "cell_type": "code",
   "execution_count": 2,
   "metadata": {},
   "outputs": [],
   "source": [
    "# Importación de librerías\n",
    "%matplotlib inline\n",
    "import pandas as pd\n",
    "import numpy as np\n",
    "from sklearn.model_selection import cross_val_score\n",
    "from sklearn.linear_model import LinearRegression\n",
    "from sklearn.tree import DecisionTreeRegressor, export_graphviz"
   ]
  },
  {
   "cell_type": "code",
   "execution_count": 3,
   "metadata": {},
   "outputs": [
    {
     "data": {
      "text/html": [
       "<div>\n",
       "<style scoped>\n",
       "    .dataframe tbody tr th:only-of-type {\n",
       "        vertical-align: middle;\n",
       "    }\n",
       "\n",
       "    .dataframe tbody tr th {\n",
       "        vertical-align: top;\n",
       "    }\n",
       "\n",
       "    .dataframe thead th {\n",
       "        text-align: right;\n",
       "    }\n",
       "</style>\n",
       "<table border=\"1\" class=\"dataframe\">\n",
       "  <thead>\n",
       "    <tr style=\"text-align: right;\">\n",
       "      <th></th>\n",
       "      <th>season</th>\n",
       "      <th>holiday</th>\n",
       "      <th>workingday</th>\n",
       "      <th>weather</th>\n",
       "      <th>temp</th>\n",
       "      <th>atemp</th>\n",
       "      <th>humidity</th>\n",
       "      <th>windspeed</th>\n",
       "      <th>casual</th>\n",
       "      <th>registered</th>\n",
       "      <th>total</th>\n",
       "      <th>hour</th>\n",
       "    </tr>\n",
       "    <tr>\n",
       "      <th>datetime</th>\n",
       "      <th></th>\n",
       "      <th></th>\n",
       "      <th></th>\n",
       "      <th></th>\n",
       "      <th></th>\n",
       "      <th></th>\n",
       "      <th></th>\n",
       "      <th></th>\n",
       "      <th></th>\n",
       "      <th></th>\n",
       "      <th></th>\n",
       "      <th></th>\n",
       "    </tr>\n",
       "  </thead>\n",
       "  <tbody>\n",
       "    <tr>\n",
       "      <th>2011-01-01 00:00:00</th>\n",
       "      <td>1</td>\n",
       "      <td>0</td>\n",
       "      <td>0</td>\n",
       "      <td>1</td>\n",
       "      <td>9.84</td>\n",
       "      <td>14.395</td>\n",
       "      <td>81</td>\n",
       "      <td>0.0</td>\n",
       "      <td>3</td>\n",
       "      <td>13</td>\n",
       "      <td>16</td>\n",
       "      <td>0</td>\n",
       "    </tr>\n",
       "    <tr>\n",
       "      <th>2011-01-01 01:00:00</th>\n",
       "      <td>1</td>\n",
       "      <td>0</td>\n",
       "      <td>0</td>\n",
       "      <td>1</td>\n",
       "      <td>9.02</td>\n",
       "      <td>13.635</td>\n",
       "      <td>80</td>\n",
       "      <td>0.0</td>\n",
       "      <td>8</td>\n",
       "      <td>32</td>\n",
       "      <td>40</td>\n",
       "      <td>1</td>\n",
       "    </tr>\n",
       "    <tr>\n",
       "      <th>2011-01-01 02:00:00</th>\n",
       "      <td>1</td>\n",
       "      <td>0</td>\n",
       "      <td>0</td>\n",
       "      <td>1</td>\n",
       "      <td>9.02</td>\n",
       "      <td>13.635</td>\n",
       "      <td>80</td>\n",
       "      <td>0.0</td>\n",
       "      <td>5</td>\n",
       "      <td>27</td>\n",
       "      <td>32</td>\n",
       "      <td>2</td>\n",
       "    </tr>\n",
       "    <tr>\n",
       "      <th>2011-01-01 03:00:00</th>\n",
       "      <td>1</td>\n",
       "      <td>0</td>\n",
       "      <td>0</td>\n",
       "      <td>1</td>\n",
       "      <td>9.84</td>\n",
       "      <td>14.395</td>\n",
       "      <td>75</td>\n",
       "      <td>0.0</td>\n",
       "      <td>3</td>\n",
       "      <td>10</td>\n",
       "      <td>13</td>\n",
       "      <td>3</td>\n",
       "    </tr>\n",
       "    <tr>\n",
       "      <th>2011-01-01 04:00:00</th>\n",
       "      <td>1</td>\n",
       "      <td>0</td>\n",
       "      <td>0</td>\n",
       "      <td>1</td>\n",
       "      <td>9.84</td>\n",
       "      <td>14.395</td>\n",
       "      <td>75</td>\n",
       "      <td>0.0</td>\n",
       "      <td>0</td>\n",
       "      <td>1</td>\n",
       "      <td>1</td>\n",
       "      <td>4</td>\n",
       "    </tr>\n",
       "  </tbody>\n",
       "</table>\n",
       "</div>"
      ],
      "text/plain": [
       "                     season  holiday  workingday  weather  temp   atemp  \\\n",
       "datetime                                                                  \n",
       "2011-01-01 00:00:00       1        0           0        1  9.84  14.395   \n",
       "2011-01-01 01:00:00       1        0           0        1  9.02  13.635   \n",
       "2011-01-01 02:00:00       1        0           0        1  9.02  13.635   \n",
       "2011-01-01 03:00:00       1        0           0        1  9.84  14.395   \n",
       "2011-01-01 04:00:00       1        0           0        1  9.84  14.395   \n",
       "\n",
       "                     humidity  windspeed  casual  registered  total  hour  \n",
       "datetime                                                                   \n",
       "2011-01-01 00:00:00        81        0.0       3          13     16     0  \n",
       "2011-01-01 01:00:00        80        0.0       8          32     40     1  \n",
       "2011-01-01 02:00:00        80        0.0       5          27     32     2  \n",
       "2011-01-01 03:00:00        75        0.0       3          10     13     3  \n",
       "2011-01-01 04:00:00        75        0.0       0           1      1     4  "
      ]
     },
     "execution_count": 3,
     "metadata": {},
     "output_type": "execute_result"
    }
   ],
   "source": [
    "# Lectura de la información de archivo .csv\n",
    "bikes = pd.read_csv('https://raw.githubusercontent.com/davidzarruk/MIAD_ML_NLP_2023/main/datasets/bikeshare.csv', index_col='datetime', parse_dates=True)\n",
    "\n",
    "# Renombrar variable \"count\" a \"total\"\n",
    "bikes.rename(columns={'count':'total'}, inplace=True)\n",
    "\n",
    "# Crear la hora como una variable \n",
    "bikes['hour'] = bikes.index.hour\n",
    "\n",
    "# Visualización de los datos\n",
    "bikes.head()"
   ]
  },
  {
   "cell_type": "markdown",
   "metadata": {},
   "source": [
    "### Punto 1 - Análisis descriptivo\n",
    "\n",
    "Ejecute las celdas 1.1 y 1.2. A partir de los resultados realice un análisis descriptivo sobre las variables \"season\" y \"hour\", escriba sus inferencias sobre los datos. Para complementar su análisis puede usar métricas como máximo, mínimo, percentiles entre otros."
   ]
  },
  {
   "cell_type": "code",
   "execution_count": 4,
   "metadata": {},
   "outputs": [
    {
     "data": {
      "text/plain": [
       "season\n",
       "1    116.343261\n",
       "2    215.251372\n",
       "3    234.417124\n",
       "4    198.988296\n",
       "Name: total, dtype: float64"
      ]
     },
     "execution_count": 4,
     "metadata": {},
     "output_type": "execute_result"
    }
   ],
   "source": [
    "# Celda 1.1\n",
    "bikes.groupby('season').total.mean()"
   ]
  },
  {
   "cell_type": "code",
   "execution_count": 5,
   "metadata": {},
   "outputs": [
    {
     "data": {
      "text/plain": [
       "count      4.000000\n",
       "mean     191.250013\n",
       "std       51.994766\n",
       "min      116.343261\n",
       "25%      178.327037\n",
       "50%      207.119834\n",
       "75%      220.042810\n",
       "max      234.417124\n",
       "Name: total, dtype: float64"
      ]
     },
     "execution_count": 5,
     "metadata": {},
     "output_type": "execute_result"
    }
   ],
   "source": [
    "# Uso de funcion describe para ver sus max, min etc\n",
    "bikes.groupby('season').total.mean().describe()"
   ]
  },
  {
   "cell_type": "code",
   "execution_count": 6,
   "metadata": {
    "scrolled": true
   },
   "outputs": [
    {
     "data": {
      "text/plain": [
       "hour\n",
       "0      55.138462\n",
       "1      33.859031\n",
       "2      22.899554\n",
       "3      11.757506\n",
       "4       6.407240\n",
       "5      19.767699\n",
       "6      76.259341\n",
       "7     213.116484\n",
       "8     362.769231\n",
       "9     221.780220\n",
       "10    175.092308\n",
       "11    210.674725\n",
       "12    256.508772\n",
       "13    257.787281\n",
       "14    243.442982\n",
       "15    254.298246\n",
       "16    316.372807\n",
       "17    468.765351\n",
       "18    430.859649\n",
       "19    315.278509\n",
       "20    228.517544\n",
       "21    173.370614\n",
       "22    133.576754\n",
       "23     89.508772\n",
       "Name: total, dtype: float64"
      ]
     },
     "execution_count": 6,
     "metadata": {},
     "output_type": "execute_result"
    }
   ],
   "source": [
    "# Celda 1.2\n",
    "bikes.groupby('hour').total.mean()"
   ]
  },
  {
   "cell_type": "markdown",
   "metadata": {},
   "source": [
    "Habiendo entendido que de la base datos bikes hay 10.886 observaciones de cada alquiler de bicicletas podemos inferir que tenemos una variable categorica como lo es season donde el promedio más alto de alquiler es en el número **3** con 234 el cual es su maximo, que corresponde a la estación de verano lo cual tiene sentido pues el clima permite que las personas viajen más veces y no como lo sucede en invierno el cual es el minimo con 116 viajes en promedio.\n",
    "\n",
    "Por otro lado tenemos la variable **hour** que el promedio es 11.5 lo cual también tiene sentido pues tenemos maximo 23 horas que corresponde a las horas que hay en un día. Ademas podemos notar que desde las 16 horas hasta 19 horas es donde más viajes de bicicletas hay por lo que podemos entender que las personas les gusta más alquilar una bicicleta para realizar paseos en estas horas."
   ]
  },
  {
   "cell_type": "markdown",
   "metadata": {},
   "source": [
    "### Punto 2 - Análisis de gráficos\n",
    "\n",
    "Primero ejecute la celda 2.1 y asegúrese de comprender el código y el resultado. Luego, en cada una de celdas 2.2 y 2.3 escriba un código que genere una gráfica del número de bicicletas rentadas promedio para cada valor de la variable \"hour\" (hora) cuando la variable \"season\" es igual a 1 (invierno) e igual a 3 (verano), respectivamente. Analice y escriba sus hallazgos."
   ]
  },
  {
   "cell_type": "code",
   "execution_count": 7,
   "metadata": {},
   "outputs": [
    {
     "data": {
      "text/plain": [
       "<AxesSubplot:xlabel='hour'>"
      ]
     },
     "execution_count": 7,
     "metadata": {},
     "output_type": "execute_result"
    },
    {
     "data": {
      "image/png": "[encoded data removed]",
      "text/plain": [
       "<Figure size 432x288 with 1 Axes>"
      ]
     },
     "metadata": {
      "needs_background": "light"
     },
     "output_type": "display_data"
    }
   ],
   "source": [
    "# Celda 2.1 - rentas promedio para cada valor de la variable \"hour\"\n",
    "bikes.groupby('hour').total.mean().plot()"
   ]
  },
  {
   "cell_type": "code",
   "execution_count": 8,
   "metadata": {},
   "outputs": [
    {
     "data": {
      "image/png": "[encoded data removed]",
      "text/plain": [
       "<Figure size 432x288 with 1 Axes>"
      ]
     },
     "metadata": {
      "needs_background": "light"
     },
     "output_type": "display_data"
    }
   ],
   "source": [
    "# Celda 2.2 - \"season\"=1 escriba su código y hallazgos \n",
    "import pandas as pd\n",
    "import matplotlib.pyplot as plt\n",
    "\n",
    "# filtrar los datos para incluir solo invierno (season=1) y verano (season=3)\n",
    "bikes_winter = bikes.loc[bikes['season'] == 1]\n",
    "\n",
    "# calcular el número promedio de bicicletas rentadas para cada hora del día\n",
    "winter_hourly_rentals = bikes_winter.groupby('hour')['total'].mean()\n",
    "\n",
    "# trazar la gráfica\n",
    "plt.plot(winter_hourly_rentals.index, winter_hourly_rentals.values, label='Invierno')\n",
    "plt.xlabel('Hora del día')\n",
    "plt.ylabel('Número promedio de bicicletas rentadas')\n",
    "plt.legend()\n",
    "plt.show()"
   ]
  },
  {
   "cell_type": "code",
   "execution_count": 9,
   "metadata": {
    "scrolled": true
   },
   "outputs": [
    {
     "data": {
      "image/png": "[encoded data removed]",
      "text/plain": [
       "<Figure size 432x288 with 1 Axes>"
      ]
     },
     "metadata": {
      "needs_background": "light"
     },
     "output_type": "display_data"
    },
    {
     "data": {
      "image/png": "[encoded data removed]",
      "text/plain": [
       "<Figure size 432x288 with 1 Axes>"
      ]
     },
     "metadata": {
      "needs_background": "light"
     },
     "output_type": "display_data"
    }
   ],
   "source": [
    "# Celda 2.3 - \"season\"=3 escriba su código y hallazgos \n",
    "# filtrar los datos para incluir solo verano (season=3)\n",
    "bikes_summer = bikes.loc[bikes['season'] == 3]\n",
    "\n",
    "# calcular el número promedio de bicicletas rentadas para cada hora del día\n",
    "summer_hourly_rentals = bikes_summer.groupby('hour')['total'].mean()\n",
    "\n",
    "# trazar la gráfica\n",
    "plt.plot(summer_hourly_rentals.index, summer_hourly_rentals.values, label='Verano')\n",
    "plt.xlabel('Hora del día')\n",
    "plt.ylabel('Número promedio de bicicletas rentadas')\n",
    "plt.legend()\n",
    "plt.show()\n",
    "\n",
    "# trazar la gráfica combinada entre invierno y Verano para comparar\n",
    "plt.plot(summer_hourly_rentals.index, summer_hourly_rentals.values, label='Verano')\n",
    "plt.plot(winter_hourly_rentals.index, winter_hourly_rentals.values, label='Invierno')\n",
    "plt.xlabel('Hora del día')\n",
    "plt.ylabel('Número promedio de bicicletas rentadas')\n",
    "plt.legend()\n",
    "plt.show()"
   ]
  },
  {
   "cell_type": "markdown",
   "metadata": {},
   "source": [
    "Con las graficas anteriores podemos concluir que aunque en invierno y verano los viajes tendencialmente se comportan muy parecidos en las franjas horarias, no lo son en terminos de cantidades. Claramente en invierno los viajes son mucho menores que en verano como se puede observar con la grafica de la linea naranja(Invierno) vs la linea azul(Verano)."
   ]
  },
  {
   "cell_type": "markdown",
   "metadata": {},
   "source": [
    "### Punto 3 - Regresión lineal\n",
    "En la celda 3 ajuste un modelo de regresión lineal a todo el conjunto de datos, utilizando \"total\" como variable de respuesta y \"season\" y \"hour\" como las únicas variables predictoras, teniendo en cuenta que la variable \"season\" es categórica. Luego, imprima los coeficientes e interprételos. ¿Cuáles son las limitaciones de la regresión lineal en este caso?"
   ]
  },
  {
   "cell_type": "code",
   "execution_count": 11,
   "metadata": {
    "scrolled": true
   },
   "outputs": [
    {
     "name": "stdout",
     "output_type": "stream",
     "text": [
      "hour         10.317904\n",
      "season_2     96.502987\n",
      "season_3    115.653637\n",
      "season_4     80.268248\n",
      "dtype: float64\n"
     ]
    }
   ],
   "source": [
    "# Celda 3\n",
    "import pandas as pd\n",
    "import statsmodels.api as sm\n",
    "\n",
    "# convertir la variable categórica \"season\" en variables ficticias\n",
    "season_dummies = pd.get_dummies(bikes['season'], prefix='season', drop_first=True)\n",
    "\n",
    "# combinar las variables ficticias con las variables predictoras existentes (\"hour\")\n",
    "\n",
    "X = pd.concat([bikes['hour'], season_dummies], axis=1)\n",
    "# la variable \"cnt\" es nuestra variable de respuesta\n",
    "\n",
    "y = bikes['total']\n",
    "\n",
    "# ajustar el modelo de regresión lineal\n",
    "\n",
    "model = sm.OLS(y, X).fit()\n",
    "\n",
    "# imprimir los coeficientes del modelo\n",
    "print(model.params)"
   ]
  },
  {
   "cell_type": "markdown",
   "metadata": {},
   "source": [
    "El coeficiente de \"hour\" indica que, manteniendo constante el valor de \"season\", se espera que el número de bicicletas rentadas aumente en 10.3 unidades por cada hora adicional del día.\n",
    "\n",
    "El coeficiente de \"season_2\" (primavera) indica que, manteniendo constante el valor de \"hour\", se espera que el número de bicicletas rentadas aumente en 95.5 unidades en comparación con el invierno (variable de referencia).\n",
    "\n",
    "El coeficiente de \"season_3\" (verano) indica que, manteniendo constante el valor de \"hour\", se espera que el número de bicicletas rentadas aumente en 115.7 unidades en comparación con el invierno (variable de referencia).\n",
    "\n",
    "El coeficiente de \"season_4\" (otoño) indica que, manteniendo constante el valor de \"hour\", se espera que el número de bicicletas rentadas aumente 80.2 unidades en comparación con el invierno (variable de referencia).\n",
    "\n",
    "**Limitaciones de la regresión lineal en este caso:**\n",
    "\n",
    "La relación entre las variables predictoras y la variable de respuesta podría ser no lineal. La regresión lineal asume que la relación es lineal, lo que podría no ser el caso.\n",
    "Puede haber otras variables relevantes que no se están considerando en el modelo. Por ejemplo, la temperatura, la humedad, la velocidad del viento, etc. pueden tener un efecto sobre la demanda de bicicletas, pero no se están considerando en este modelo. La falta de control de estas variables puede introducir sesgos y errores en el modelo.\n",
    "También puede haber interacciones entre las variables predictoras que no se están considerando en este modelo. Por ejemplo, la relación entre \"hour\" y \"season\" podría no ser la misma en todas las estaciones."
   ]
  },
  {
   "cell_type": "markdown",
   "metadata": {},
   "source": [
    "### Punto 4 - Árbol de decisión manual\n",
    "En la celda 4 cree un árbol de decisiones para pronosticar la variable \"total\" iterando **manualmente** sobre las variables \"hour\" y  \"season\". El árbol debe tener al menos 6 nodos finales."
   ]
  },
  {
   "cell_type": "code",
   "execution_count": 18,
   "metadata": {},
   "outputs": [
    {
     "name": "stdout",
     "output_type": "stream",
     "text": [
      "season\n",
      "hour\n"
     ]
    },
    {
     "data": {
      "text/plain": [
       "{'y_pred': 0,\n",
       " 'y_prob': 0.49917340191036,\n",
       " 'level': 0,\n",
       " 'split': [1, 8.0],\n",
       " 'n_samples': 10886,\n",
       " 'gain': 0.16178755449047394,\n",
       " 'sl': {'y_pred': 0,\n",
       "  'y_prob': 0.0942714126807564,\n",
       "  'level': 1,\n",
       "  'split': [1, 7.0],\n",
       "  'n_samples': 3594,\n",
       "  'gain': 0.06425451863089747,\n",
       "  'sl': {'y_pred': 0,\n",
       "   'y_prob': 0.026106335561922954,\n",
       "   'level': 2,\n",
       "   'split': [1, 6.0],\n",
       "   'n_samples': 3139,\n",
       "   'gain': 0.0027878761479700337,\n",
       "   'sl': {'y_pred': 0,\n",
       "    'y_prob': 0.010796723752792257,\n",
       "    'level': 3,\n",
       "    'split': -1,\n",
       "    'n_samples': 2684,\n",
       "    'gain': 0.0008089140964271449},\n",
       "   'sr': {'y_pred': 0,\n",
       "    'y_prob': 0.11816192560175055,\n",
       "    'level': 3,\n",
       "    'split': [0, 3.0],\n",
       "    'n_samples': 455,\n",
       "    'gain': 0.009214309359181827,\n",
       "    'sl': {'y_pred': 0,\n",
       "     'y_prob': 0.05240174672489083,\n",
       "     'level': 4,\n",
       "     'split': [0, 2.0],\n",
       "     'n_samples': 227,\n",
       "     'gain': 0.004655188204359839,\n",
       "     'sl': {'y_pred': 0,\n",
       "      'y_prob': 0.008695652173913044,\n",
       "      'level': 5,\n",
       "      'split': -1,\n",
       "      'n_samples': 113,\n",
       "      'gain': 0},\n",
       "     'sr': {'y_pred': 0,\n",
       "      'y_prob': 0.10344827586206896,\n",
       "      'level': 5,\n",
       "      'split': -1,\n",
       "      'n_samples': 114,\n",
       "      'gain': 0}},\n",
       "    'sr': {'y_pred': 0,\n",
       "     'y_prob': 0.18695652173913044,\n",
       "     'level': 4,\n",
       "     'split': [0, 4.0],\n",
       "     'n_samples': 228,\n",
       "     'gain': 0.007540781779009076,\n",
       "     'sl': {'y_pred': 0,\n",
       "      'y_prob': 0.25,\n",
       "      'level': 5,\n",
       "      'split': -1,\n",
       "      'n_samples': 114,\n",
       "      'gain': 0},\n",
       "     'sr': {'y_pred': 0,\n",
       "      'y_prob': 0.12931034482758622,\n",
       "      'level': 5,\n",
       "      'split': -1,\n",
       "      'n_samples': 114,\n",
       "      'gain': 0}}}},\n",
       "  'sr': {'y_pred': 1,\n",
       "   'y_prob': 0.5645514223194749,\n",
       "   'level': 2,\n",
       "   'split': [0, 2.0],\n",
       "   'n_samples': 455,\n",
       "   'gain': 0.03724340536882442,\n",
       "   'sl': {'y_pred': 0,\n",
       "    'y_prob': 0.33043478260869563,\n",
       "    'level': 3,\n",
       "    'split': -1,\n",
       "    'n_samples': 113,\n",
       "    'gain': 0},\n",
       "   'sr': {'y_pred': 1,\n",
       "    'y_prob': 0.6424418604651163,\n",
       "    'level': 3,\n",
       "    'split': -1,\n",
       "    'n_samples': 342,\n",
       "    'gain': 0.000136794227283632}}},\n",
       " 'sr': {'y_pred': 1,\n",
       "  'y_prob': 0.6987935289278859,\n",
       "  'level': 1,\n",
       "  'split': [0, 2.0],\n",
       "  'n_samples': 7292,\n",
       "  'gain': 0.05853892375774267,\n",
       "  'sl': {'y_pred': 0,\n",
       "   'y_prob': 0.40230515916575194,\n",
       "   'level': 2,\n",
       "   'split': [1, 21.0],\n",
       "   'n_samples': 1820,\n",
       "   'gain': 0.04242711375552333,\n",
       "   'sl': {'y_pred': 0,\n",
       "    'y_prob': 0.4722972972972973,\n",
       "    'level': 3,\n",
       "    'split': [1, 16.0],\n",
       "    'n_samples': 1478,\n",
       "    'gain': 0.012037132208006285,\n",
       "    'sl': {'y_pred': 0,\n",
       "     'y_prob': 0.41098901098901097,\n",
       "     'level': 4,\n",
       "     'split': [1, 9.0],\n",
       "     'n_samples': 908,\n",
       "     'gain': 0.01693500906686085,\n",
       "     'sl': {'y_pred': 1,\n",
       "      'y_prob': 0.6521739130434783,\n",
       "      'level': 5,\n",
       "      'split': -1,\n",
       "      'n_samples': 113,\n",
       "      'gain': 0},\n",
       "     'sr': {'y_pred': 0,\n",
       "      'y_prob': 0.37641154328732745,\n",
       "      'level': 5,\n",
       "      'split': [1, 12.0],\n",
       "      'n_samples': 795,\n",
       "      'gain': 0.00654873852273985,\n",
       "      'sl': {'y_pred': 0,\n",
       "       'y_prob': 0.31085043988269795,\n",
       "       'level': 6,\n",
       "       'split': -1,\n",
       "       'n_samples': 339,\n",
       "       'gain': 0.020048555094369258},\n",
       "      'sr': {'y_pred': 0,\n",
       "       'y_prob': 0.425764192139738,\n",
       "       'level': 6,\n",
       "       'split': -1,\n",
       "       'n_samples': 456,\n",
       "       'gain': 0.000615574022776233}}},\n",
       "    'sr': {'y_pred': 1,\n",
       "     'y_prob': 0.5699300699300699,\n",
       "     'level': 4,\n",
       "     'split': [1, 19.0],\n",
       "     'n_samples': 570,\n",
       "     'gain': 0.035113368215861196,\n",
       "     'sl': {'y_pred': 1,\n",
       "      'y_prob': 0.6773255813953488,\n",
       "      'level': 5,\n",
       "      'split': [1, 17.0],\n",
       "      'n_samples': 342,\n",
       "      'gain': 0.03181320748264432,\n",
       "      'sl': {'y_pred': 1,\n",
       "       'y_prob': 0.5,\n",
       "       'level': 6,\n",
       "       'split': -1,\n",
       "       'n_samples': 114,\n",
       "       'gain': 0},\n",
       "      'sr': {'y_pred': 1,\n",
       "       'y_prob': 0.7652173913043478,\n",
       "       'level': 6,\n",
       "       'split': -1,\n",
       "       'n_samples': 228,\n",
       "       'gain': 0.0009618344105878363}},\n",
       "     'sr': {'y_pred': 0,\n",
       "      'y_prob': 0.40869565217391307,\n",
       "      'level': 5,\n",
       "      'split': [1, 20.0],\n",
       "      'n_samples': 228,\n",
       "      'gain': 0.011118805786395902,\n",
       "      'sl': {'y_pred': 0,\n",
       "       'y_prob': 0.4827586206896552,\n",
       "       'level': 6,\n",
       "       'split': -1,\n",
       "       'n_samples': 114,\n",
       "       'gain': 0},\n",
       "      'sr': {'y_pred': 0,\n",
       "       'y_prob': 0.33620689655172414,\n",
       "       'level': 6,\n",
       "       'split': -1,\n",
       "       'n_samples': 114,\n",
       "       'gain': 0}}}},\n",
       "   'sr': {'y_pred': 0,\n",
       "    'y_prob': 0.10174418604651163,\n",
       "    'level': 3,\n",
       "    'split': [1, 22.0],\n",
       "    'n_samples': 342,\n",
       "    'gain': 0.012345679012345678,\n",
       "    'sl': {'y_pred': 0,\n",
       "     'y_prob': 0.21551724137931033,\n",
       "     'level': 4,\n",
       "     'split': -1,\n",
       "     'n_samples': 114,\n",
       "     'gain': 0},\n",
       "    'sr': {'y_pred': 0,\n",
       "     'y_prob': 0.04782608695652174,\n",
       "     'level': 4,\n",
       "     'split': [1, 23.0],\n",
       "     'n_samples': 228,\n",
       "     'gain': 0.002462296091104932,\n",
       "     'sl': {'y_pred': 0,\n",
       "      'y_prob': 0.08620689655172414,\n",
       "      'level': 5,\n",
       "      'split': -1,\n",
       "      'n_samples': 114,\n",
       "      'gain': 0},\n",
       "     'sr': {'y_pred': 0,\n",
       "      'y_prob': 0.017241379310344827,\n",
       "      'level': 5,\n",
       "      'split': -1,\n",
       "      'n_samples': 114,\n",
       "      'gain': 0}}}},\n",
       "  'sr': {'y_pred': 1,\n",
       "   'y_prob': 0.7974059188892948,\n",
       "   'level': 2,\n",
       "   'split': [1, 22.0],\n",
       "   'n_samples': 5472,\n",
       "   'gain': 0.052248219232291115,\n",
       "   'sl': {'y_pred': 1,\n",
       "    'y_prob': 0.858455114822547,\n",
       "    'level': 3,\n",
       "    'split': [1, 13.0],\n",
       "    'n_samples': 4788,\n",
       "    'gain': 0.005310130504329658,\n",
       "    'sl': {'y_pred': 1,\n",
       "     'y_prob': 0.7891355140186916,\n",
       "     'level': 4,\n",
       "     'split': [1, 12.0],\n",
       "     'n_samples': 1710,\n",
       "     'gain': 0.006502000615573877,\n",
       "     'sl': {'y_pred': 1,\n",
       "      'y_prob': 0.7605839416058394,\n",
       "      'level': 5,\n",
       "      'split': [1, 10.0],\n",
       "      'n_samples': 1368,\n",
       "      'gain': 0.008465211518074056,\n",
       "      'sl': {'y_pred': 1,\n",
       "       'y_prob': 0.8250728862973761,\n",
       "       'level': 6,\n",
       "       'split': -1,\n",
       "       'n_samples': 684,\n",
       "       'gain': 0.00865650969529086},\n",
       "      'sr': {'y_pred': 1,\n",
       "       'y_prob': 0.6953352769679301,\n",
       "       'level': 6,\n",
       "       'split': -1,\n",
       "       'n_samples': 684,\n",
       "       'gain': 0.00904551827912864}},\n",
       "     'sr': {'y_pred': 1,\n",
       "      'y_prob': 0.9011627906976745,\n",
       "      'level': 5,\n",
       "      'split': [0, 3.0],\n",
       "      'n_samples': 342,\n",
       "      'gain': 0.001231148045552466,\n",
       "      'sl': {'y_pred': 1,\n",
       "       'y_prob': 0.8620689655172413,\n",
       "       'level': 6,\n",
       "       'split': -1,\n",
       "       'n_samples': 114,\n",
       "       'gain': 0},\n",
       "      'sr': {'y_pred': 1,\n",
       "       'y_prob': 0.9173913043478261,\n",
       "       'level': 6,\n",
       "       'split': -1,\n",
       "       'n_samples': 228,\n",
       "       'gain': 0.0013850415512465242}}},\n",
       "    'sr': {'y_pred': 1,\n",
       "     'y_prob': 0.8967532467532467,\n",
       "     'level': 4,\n",
       "     'split': [1, 21.0],\n",
       "     'n_samples': 3078,\n",
       "     'gain': 0.005296132058782654,\n",
       "     'sl': {'y_pred': 1,\n",
       "      'y_prob': 0.9149013878743608,\n",
       "      'level': 5,\n",
       "      'split': [1, 16.0],\n",
       "      'n_samples': 2736,\n",
       "      'gain': 0.0021077710520614745,\n",
       "      'sl': {'y_pred': 1,\n",
       "       'y_prob': 0.872568093385214,\n",
       "       'level': 6,\n",
       "       'split': -1,\n",
       "       'n_samples': 1026,\n",
       "       'gain': 0.0015968826115537738},\n",
       "      'sr': {'y_pred': 1,\n",
       "       'y_prob': 0.9398364485981309,\n",
       "       'level': 6,\n",
       "       'split': -1,\n",
       "       'n_samples': 1710,\n",
       "       'gain': 0.0030246913580245505}},\n",
       "     'sr': {'y_pred': 1,\n",
       "      'y_prob': 0.75,\n",
       "      'level': 5,\n",
       "      'split': [0, 4.0],\n",
       "      'n_samples': 342,\n",
       "      'gain': 0.021374098013064002,\n",
       "      'sl': {'y_pred': 1,\n",
       "       'y_prob': 0.8217391304347826,\n",
       "       'level': 6,\n",
       "       'split': -1,\n",
       "       'n_samples': 228,\n",
       "       'gain': 0.007540781779008854},\n",
       "      'sr': {'y_pred': 1,\n",
       "       'y_prob': 0.603448275862069,\n",
       "       'level': 6,\n",
       "       'split': -1,\n",
       "       'n_samples': 114,\n",
       "       'gain': 0}}}},\n",
       "   'sr': {'y_pred': 0,\n",
       "    'y_prob': 0.37026239067055394,\n",
       "    'level': 3,\n",
       "    'split': [1, 23.0],\n",
       "    'n_samples': 684,\n",
       "    'gain': 0.060535720392599524,\n",
       "    'sl': {'y_pred': 1,\n",
       "     'y_prob': 0.5436046511627907,\n",
       "     'level': 4,\n",
       "     'split': [0, 4.0],\n",
       "     'n_samples': 342,\n",
       "     'gain': 0.04432132963988927,\n",
       "     'sl': {'y_pred': 1,\n",
       "      'y_prob': 0.6478260869565218,\n",
       "      'level': 5,\n",
       "      'split': [0, 3.0],\n",
       "      'n_samples': 228,\n",
       "      'gain': 0.012465373961218884,\n",
       "      'sl': {'y_pred': 1,\n",
       "       'y_prob': 0.5689655172413793,\n",
       "       'level': 6,\n",
       "       'split': -1,\n",
       "       'n_samples': 114,\n",
       "       'gain': 0},\n",
       "      'sr': {'y_pred': 1,\n",
       "       'y_prob': 0.7241379310344828,\n",
       "       'level': 6,\n",
       "       'split': -1,\n",
       "       'n_samples': 114,\n",
       "       'gain': 0}},\n",
       "     'sr': {'y_pred': 0,\n",
       "      'y_prob': 0.33620689655172414,\n",
       "      'level': 5,\n",
       "      'split': -1,\n",
       "      'n_samples': 114,\n",
       "      'gain': 0}},\n",
       "    'sr': {'y_pred': 0,\n",
       "     'y_prob': 0.19767441860465115,\n",
       "     'level': 4,\n",
       "     'split': [0, 4.0],\n",
       "     'n_samples': 342,\n",
       "     'gain': 0.009883382921240635,\n",
       "     'sl': {'y_pred': 0,\n",
       "      'y_prob': 0.24782608695652175,\n",
       "      'level': 5,\n",
       "      'split': [0, 3.0],\n",
       "      'n_samples': 228,\n",
       "      'gain': 0.003847337642351567,\n",
       "      'sl': {'y_pred': 0,\n",
       "       'y_prob': 0.20689655172413793,\n",
       "       'level': 6,\n",
       "       'split': -1,\n",
       "       'n_samples': 114,\n",
       "       'gain': 0},\n",
       "      'sr': {'y_pred': 0,\n",
       "       'y_prob': 0.29310344827586204,\n",
       "       'level': 6,\n",
       "       'split': -1,\n",
       "       'n_samples': 114,\n",
       "       'gain': 0}},\n",
       "     'sr': {'y_pred': 0,\n",
       "      'y_prob': 0.10344827586206896,\n",
       "      'level': 5,\n",
       "      'split': -1,\n",
       "      'n_samples': 114,\n",
       "      'gain': 0}}}}}}"
      ]
     },
     "execution_count": 18,
     "metadata": {},
     "output_type": "execute_result"
    }
   ],
   "source": [
    "# Celda 4\n",
    "X =  bikes[['season', 'hour']]\n",
    "y = (bikes.total > 145).astype(int) ## Asumimos la mediana del total como 145\n",
    "\n",
    "# Definición de parámetros y criterios de parada\n",
    "max_depth = 6\n",
    "num_pct = 10\n",
    "max_features = None\n",
    "min_gain=0.001\n",
    "\n",
    "i=0 \n",
    "j= 1\n",
    "print(X.columns[i])\n",
    "print(X.columns[j])\n",
    "\n",
    "\n",
    "splits = np.percentile(X.iloc[:,j], np.arange(0, 100, 100.0 / num_pct).tolist())\n",
    "splits = np.unique(splits)\n",
    "splits\n",
    "\n",
    "# Definición de la función que calcula el gini index\n",
    "def gini(y):\n",
    "    if y.shape[0] == 0:\n",
    "        return 0\n",
    "    else:\n",
    "        return 1 - (y.mean()**2 + (1 - y.mean())**2)\n",
    "\n",
    "# Definición de la función gini_imputiry para calular la ganancia de una variable predictora j dado el punto de corte k\n",
    "def gini_impurity(X_col, y, split):\n",
    "    \n",
    "    filter_l = X_col < split\n",
    "    y_l = y.loc[filter_l]\n",
    "    y_r = y.loc[~filter_l]\n",
    "    \n",
    "    n_l = y_l.shape[0]\n",
    "    n_r = y_r.shape[0]\n",
    "    \n",
    "    gini_y = gini(y)\n",
    "    gini_l = gini(y_l)\n",
    "    gini_r = gini(y_r)\n",
    "    \n",
    "    gini_impurity_ = gini_y - (n_l / (n_l + n_r) * gini_l + n_r / (n_l + n_r) * gini_r)\n",
    "    \n",
    "    return gini_impurity_\n",
    "\n",
    "# Definición de la función best_split para calcular cuál es la mejor variable y punto de cortepara hacer la bifurcación del árbol\n",
    "def best_split(X, y, num_pct=10):\n",
    "    \n",
    "    features = range(X.shape[1])\n",
    "    \n",
    "    best_split = [0, 0, 0]  # j, split, gain\n",
    "    \n",
    "    # Para todas las varibles \n",
    "    for j in features:\n",
    "        \n",
    "        splits = np.percentile(X.iloc[:, j], np.arange(0, 100, 100.0 / (num_pct+1)).tolist())\n",
    "        splits = np.unique(splits)[1:]\n",
    "        \n",
    "        # Para cada partición\n",
    "        for split in splits:\n",
    "            gain = gini_impurity(X.iloc[:, j], y, split)\n",
    "                        \n",
    "            if gain > best_split[2]:\n",
    "                best_split = [j, split, gain]\n",
    "    \n",
    "    return best_split\n",
    "\n",
    "# Definición de la función tree_grow para hacer un crecimiento recursivo del árbol\n",
    "def tree_grow(X, y, level=0, min_gain=0.001, max_depth=None, num_pct=10):\n",
    "    \n",
    "    # Si solo es una observación\n",
    "    if X.shape[0] == 1:\n",
    "        tree = dict(y_pred=y.iloc[:1].values[0], y_prob=0.5, level=level, split=-1, n_samples=1, gain=0)\n",
    "        return tree\n",
    "    \n",
    "    # Calcular la mejor división\n",
    "    j, split, gain = best_split(X, y, num_pct)\n",
    "    \n",
    "    # Guardar el árbol y estimar la predicción\n",
    "    y_pred = int(y.mean() >= 0.5) \n",
    "    y_prob = (y.sum() + 1.0) / (y.shape[0] + 2.0)  # Corrección Laplace \n",
    "    \n",
    "    tree = dict(y_pred=y_pred, y_prob=y_prob, level=level, split=-1, n_samples=X.shape[0], gain=gain)\n",
    "    # Revisar el criterio de parada \n",
    "    if gain < min_gain:\n",
    "        return tree\n",
    "    if max_depth is not None:\n",
    "        if level >= max_depth:\n",
    "            return tree   \n",
    "    \n",
    "    # Continuar creando la partición\n",
    "    filter_l = X.iloc[:, j] < split\n",
    "    X_l, y_l = X.loc[filter_l], y.loc[filter_l]\n",
    "    X_r, y_r = X.loc[~filter_l], y.loc[~filter_l]\n",
    "    tree['split'] = [j, split]\n",
    "\n",
    "    # Siguiente iteración para cada partición\n",
    "    \n",
    "    tree['sl'] = tree_grow(X_l, y_l, level + 1, min_gain=min_gain, max_depth=max_depth, num_pct=num_pct)\n",
    "    tree['sr'] = tree_grow(X_r, y_r, level + 1, min_gain=min_gain, max_depth=max_depth, num_pct=num_pct)\n",
    "    \n",
    "    return tree\n",
    "\n",
    "tree_grow(X, y, level=0, min_gain=0.001, max_depth= max_depth , num_pct=10)"
   ]
  },
  {
   "cell_type": "markdown",
   "metadata": {},
   "source": [
    "### Punto 5 - Árbol de decisión con librería\n",
    "En la celda 5 entrene un árbol de decisiones con la **librería sklearn**, usando las variables predictoras \"season\" y \"hour\" y calibre los parámetros que considere conveniente para obtener un mejor desempeño. Recuerde dividir los datos en conjuntos de entrenamiento y validación para esto. Comente el desempeño del modelo con alguna métrica de desempeño de modelos de regresión y compare desempeño con el modelo del punto 3."
   ]
  },
  {
   "cell_type": "code",
   "execution_count": 19,
   "metadata": {},
   "outputs": [],
   "source": [
    "# Celda 5\n",
    "# Lista de valores para calibrar el criterio de parada de máxima profundidad (max_depth)\n",
    "max_depth_range = range(1, 24)\n",
    "\n",
    "# Lista para guardar los valores del RMSE para cada valor de máxima profundidad (max_depth)\n",
    "accuracy_scores = []\n",
    "\n",
    "# Importación de modelos de sklearn \n",
    "from sklearn.model_selection import cross_val_score\n",
    "from sklearn.tree import DecisionTreeClassifier\n",
    "\n",
    "# Loop para obtener el desempeño del modelo de acuerdo con la máxima profundidad\n",
    "for depth in max_depth_range:\n",
    "    # Definición del árbol de decisión usando DecisionTreeClassifier de la libreria sklearn\n",
    "    clf = DecisionTreeClassifier(max_depth=depth, random_state=1)\n",
    "    accuracy_scores.append(cross_val_score(clf, X, y, cv=100, scoring='accuracy').mean())"
   ]
  },
  {
   "cell_type": "code",
   "execution_count": 20,
   "metadata": {
    "scrolled": true
   },
   "outputs": [
    {
     "data": {
      "text/plain": [
       "(0.8416148487937478, 5)"
      ]
     },
     "execution_count": 20,
     "metadata": {},
     "output_type": "execute_result"
    },
    {
     "data": {
      "image/png": "[encoded data removed]",
      "text/plain": [
       "<Figure size 432x288 with 1 Axes>"
      ]
     },
     "metadata": {
      "needs_background": "light"
     },
     "output_type": "display_data"
    }
   ],
   "source": [
    "# Gráfica max_depth versus RMSE (error del modelo)\n",
    "import matplotlib.pyplot as plt\n",
    "plt.plot(max_depth_range, accuracy_scores)\n",
    "plt.xlabel('max_depth')\n",
    "plt.ylabel('Accuracy')\n",
    "\n",
    "# Mejor accuracy (desempeño del modelo) y su correspondiente max_depth\n",
    "sorted(zip(accuracy_scores, max_depth_range))[::-1][0]"
   ]
  },
  {
   "cell_type": "code",
   "execution_count": 21,
   "metadata": {},
   "outputs": [
    {
     "name": "stdout",
     "output_type": "stream",
     "text": [
      "La presición del modelo de árbol de clasificación es con los datos de Train es: 0.8095433977786919\n",
      "La presición del modelo de árbol de clasificación es con los datos de Test es: 0.8076816031171723\n"
     ]
    }
   ],
   "source": [
    "# división los datos en conjuntos de entrenamiento y validación\n",
    "from sklearn.model_selection import train_test_split\n",
    "\n",
    "\n",
    "X_train, X_test, y_train, y_test = train_test_split(X, y, test_size=0.33, random_state=42)\n",
    "\n",
    "# max_depth=2 fue el mejor, se ajusta un árbol usando este valor \n",
    "clf = DecisionTreeClassifier(max_depth=2, random_state=1)\n",
    "clf.fit(X_train, y_train)\n",
    "\n",
    "Score_train = clf.score(X_train, y_train)\n",
    "print(f'La presición del modelo de árbol de clasificación es con los datos de Train es: {Score_train}')\n",
    "\n",
    "Score_test = clf.score(X_test, y_test)\n",
    "print(f'La presición del modelo de árbol de clasificación es con los datos de Test es: {Score_test}')"
   ]
  },
  {
   "cell_type": "markdown",
   "metadata": {},
   "source": [
    "El modelo entrenado tiene una presición del 80,95% en los tatos de Test y 80.77% en los de validación."
   ]
  },
  {
   "cell_type": "markdown",
   "metadata": {},
   "source": [
    "## Parte B - Métodos de ensamblajes\n",
    "En esta parte del taller se usará el conjunto de datos de Popularidad de Noticias Online. El objetivo es predecir si la notica es popular o no, la popularidad está dada por la cantidad de reacciones en redes sociales. Para más detalles puede visitar el siguiente enlace: [datos](https://archive.ics.uci.edu/ml/datasets/online+news+popularity)."
   ]
  },
  {
   "cell_type": "markdown",
   "metadata": {},
   "source": [
    "### Datos popularidad de noticias"
   ]
  },
  {
   "cell_type": "code",
   "execution_count": 22,
   "metadata": {},
   "outputs": [
    {
     "data": {
      "text/html": [
       "<div>\n",
       "<style scoped>\n",
       "    .dataframe tbody tr th:only-of-type {\n",
       "        vertical-align: middle;\n",
       "    }\n",
       "\n",
       "    .dataframe tbody tr th {\n",
       "        vertical-align: top;\n",
       "    }\n",
       "\n",
       "    .dataframe thead th {\n",
       "        text-align: right;\n",
       "    }\n",
       "</style>\n",
       "<table border=\"1\" class=\"dataframe\">\n",
       "  <thead>\n",
       "    <tr style=\"text-align: right;\">\n",
       "      <th></th>\n",
       "      <th>url</th>\n",
       "      <th>timedelta</th>\n",
       "      <th>n_tokens_title</th>\n",
       "      <th>n_tokens_content</th>\n",
       "      <th>n_unique_tokens</th>\n",
       "      <th>n_non_stop_words</th>\n",
       "      <th>n_non_stop_unique_tokens</th>\n",
       "      <th>num_hrefs</th>\n",
       "      <th>num_self_hrefs</th>\n",
       "      <th>num_imgs</th>\n",
       "      <th>...</th>\n",
       "      <th>min_positive_polarity</th>\n",
       "      <th>max_positive_polarity</th>\n",
       "      <th>avg_negative_polarity</th>\n",
       "      <th>min_negative_polarity</th>\n",
       "      <th>max_negative_polarity</th>\n",
       "      <th>title_subjectivity</th>\n",
       "      <th>title_sentiment_polarity</th>\n",
       "      <th>abs_title_subjectivity</th>\n",
       "      <th>abs_title_sentiment_polarity</th>\n",
       "      <th>Popular</th>\n",
       "    </tr>\n",
       "  </thead>\n",
       "  <tbody>\n",
       "    <tr>\n",
       "      <th>0</th>\n",
       "      <td>http://mashable.com/2014/12/10/cia-torture-rep...</td>\n",
       "      <td>28.0</td>\n",
       "      <td>9.0</td>\n",
       "      <td>188.0</td>\n",
       "      <td>0.732620</td>\n",
       "      <td>1.0</td>\n",
       "      <td>0.844262</td>\n",
       "      <td>5.0</td>\n",
       "      <td>1.0</td>\n",
       "      <td>1.0</td>\n",
       "      <td>...</td>\n",
       "      <td>0.200000</td>\n",
       "      <td>0.80</td>\n",
       "      <td>-0.487500</td>\n",
       "      <td>-0.60</td>\n",
       "      <td>-0.250000</td>\n",
       "      <td>0.9</td>\n",
       "      <td>0.8</td>\n",
       "      <td>0.4</td>\n",
       "      <td>0.8</td>\n",
       "      <td>1</td>\n",
       "    </tr>\n",
       "    <tr>\n",
       "      <th>1</th>\n",
       "      <td>http://mashable.com/2013/10/18/bitlock-kicksta...</td>\n",
       "      <td>447.0</td>\n",
       "      <td>7.0</td>\n",
       "      <td>297.0</td>\n",
       "      <td>0.653199</td>\n",
       "      <td>1.0</td>\n",
       "      <td>0.815789</td>\n",
       "      <td>9.0</td>\n",
       "      <td>4.0</td>\n",
       "      <td>1.0</td>\n",
       "      <td>...</td>\n",
       "      <td>0.160000</td>\n",
       "      <td>0.50</td>\n",
       "      <td>-0.135340</td>\n",
       "      <td>-0.40</td>\n",
       "      <td>-0.050000</td>\n",
       "      <td>0.1</td>\n",
       "      <td>-0.1</td>\n",
       "      <td>0.4</td>\n",
       "      <td>0.1</td>\n",
       "      <td>0</td>\n",
       "    </tr>\n",
       "    <tr>\n",
       "      <th>2</th>\n",
       "      <td>http://mashable.com/2013/07/24/google-glass-po...</td>\n",
       "      <td>533.0</td>\n",
       "      <td>11.0</td>\n",
       "      <td>181.0</td>\n",
       "      <td>0.660377</td>\n",
       "      <td>1.0</td>\n",
       "      <td>0.775701</td>\n",
       "      <td>4.0</td>\n",
       "      <td>3.0</td>\n",
       "      <td>1.0</td>\n",
       "      <td>...</td>\n",
       "      <td>0.136364</td>\n",
       "      <td>1.00</td>\n",
       "      <td>0.000000</td>\n",
       "      <td>0.00</td>\n",
       "      <td>0.000000</td>\n",
       "      <td>0.3</td>\n",
       "      <td>1.0</td>\n",
       "      <td>0.2</td>\n",
       "      <td>1.0</td>\n",
       "      <td>0</td>\n",
       "    </tr>\n",
       "    <tr>\n",
       "      <th>3</th>\n",
       "      <td>http://mashable.com/2013/11/21/these-are-the-m...</td>\n",
       "      <td>413.0</td>\n",
       "      <td>12.0</td>\n",
       "      <td>781.0</td>\n",
       "      <td>0.497409</td>\n",
       "      <td>1.0</td>\n",
       "      <td>0.677350</td>\n",
       "      <td>10.0</td>\n",
       "      <td>3.0</td>\n",
       "      <td>1.0</td>\n",
       "      <td>...</td>\n",
       "      <td>0.100000</td>\n",
       "      <td>1.00</td>\n",
       "      <td>-0.195701</td>\n",
       "      <td>-0.40</td>\n",
       "      <td>-0.071429</td>\n",
       "      <td>0.0</td>\n",
       "      <td>0.0</td>\n",
       "      <td>0.5</td>\n",
       "      <td>0.0</td>\n",
       "      <td>0</td>\n",
       "    </tr>\n",
       "    <tr>\n",
       "      <th>4</th>\n",
       "      <td>http://mashable.com/2014/02/11/parking-ticket-...</td>\n",
       "      <td>331.0</td>\n",
       "      <td>8.0</td>\n",
       "      <td>177.0</td>\n",
       "      <td>0.685714</td>\n",
       "      <td>1.0</td>\n",
       "      <td>0.830357</td>\n",
       "      <td>3.0</td>\n",
       "      <td>2.0</td>\n",
       "      <td>1.0</td>\n",
       "      <td>...</td>\n",
       "      <td>0.100000</td>\n",
       "      <td>0.55</td>\n",
       "      <td>-0.175000</td>\n",
       "      <td>-0.25</td>\n",
       "      <td>-0.100000</td>\n",
       "      <td>0.0</td>\n",
       "      <td>0.0</td>\n",
       "      <td>0.5</td>\n",
       "      <td>0.0</td>\n",
       "      <td>0</td>\n",
       "    </tr>\n",
       "  </tbody>\n",
       "</table>\n",
       "<p>5 rows × 61 columns</p>\n",
       "</div>"
      ],
      "text/plain": [
       "                                                 url  timedelta  \\\n",
       "0  http://mashable.com/2014/12/10/cia-torture-rep...       28.0   \n",
       "1  http://mashable.com/2013/10/18/bitlock-kicksta...      447.0   \n",
       "2  http://mashable.com/2013/07/24/google-glass-po...      533.0   \n",
       "3  http://mashable.com/2013/11/21/these-are-the-m...      413.0   \n",
       "4  http://mashable.com/2014/02/11/parking-ticket-...      331.0   \n",
       "\n",
       "   n_tokens_title  n_tokens_content  n_unique_tokens  n_non_stop_words  \\\n",
       "0             9.0             188.0         0.732620               1.0   \n",
       "1             7.0             297.0         0.653199               1.0   \n",
       "2            11.0             181.0         0.660377               1.0   \n",
       "3            12.0             781.0         0.497409               1.0   \n",
       "4             8.0             177.0         0.685714               1.0   \n",
       "\n",
       "   n_non_stop_unique_tokens  num_hrefs  num_self_hrefs  num_imgs  ...  \\\n",
       "0                  0.844262        5.0             1.0       1.0  ...   \n",
       "1                  0.815789        9.0             4.0       1.0  ...   \n",
       "2                  0.775701        4.0             3.0       1.0  ...   \n",
       "3                  0.677350       10.0             3.0       1.0  ...   \n",
       "4                  0.830357        3.0             2.0       1.0  ...   \n",
       "\n",
       "   min_positive_polarity  max_positive_polarity  avg_negative_polarity  \\\n",
       "0               0.200000                   0.80              -0.487500   \n",
       "1               0.160000                   0.50              -0.135340   \n",
       "2               0.136364                   1.00               0.000000   \n",
       "3               0.100000                   1.00              -0.195701   \n",
       "4               0.100000                   0.55              -0.175000   \n",
       "\n",
       "   min_negative_polarity  max_negative_polarity  title_subjectivity  \\\n",
       "0                  -0.60              -0.250000                 0.9   \n",
       "1                  -0.40              -0.050000                 0.1   \n",
       "2                   0.00               0.000000                 0.3   \n",
       "3                  -0.40              -0.071429                 0.0   \n",
       "4                  -0.25              -0.100000                 0.0   \n",
       "\n",
       "   title_sentiment_polarity  abs_title_subjectivity  \\\n",
       "0                       0.8                     0.4   \n",
       "1                      -0.1                     0.4   \n",
       "2                       1.0                     0.2   \n",
       "3                       0.0                     0.5   \n",
       "4                       0.0                     0.5   \n",
       "\n",
       "   abs_title_sentiment_polarity  Popular  \n",
       "0                           0.8        1  \n",
       "1                           0.1        0  \n",
       "2                           1.0        0  \n",
       "3                           0.0        0  \n",
       "4                           0.0        0  \n",
       "\n",
       "[5 rows x 61 columns]"
      ]
     },
     "execution_count": 22,
     "metadata": {},
     "output_type": "execute_result"
    }
   ],
   "source": [
    "# Lectura de la información de archivo .csv\n",
    "df = pd.read_csv('https://raw.githubusercontent.com/davidzarruk/MIAD_ML_NLP_2023/main/datasets/mashable.csv', index_col=0)\n",
    "df.head()"
   ]
  },
  {
   "cell_type": "code",
   "execution_count": 23,
   "metadata": {},
   "outputs": [
    {
     "data": {
      "text/plain": [
       "0.5"
      ]
     },
     "execution_count": 23,
     "metadata": {},
     "output_type": "execute_result"
    }
   ],
   "source": [
    "# Definición variable de interes y variables predictoras\n",
    "X = df.drop(['url', 'Popular'], axis=1)\n",
    "y = df['Popular']\n",
    "y.mean()"
   ]
  },
  {
   "cell_type": "code",
   "execution_count": 24,
   "metadata": {},
   "outputs": [],
   "source": [
    "# División de la muestra en set de entrenamiento y prueba\n",
    "from sklearn.model_selection import train_test_split\n",
    "X_train, X_test, y_train, y_test = train_test_split(X, y, random_state=1)"
   ]
  },
  {
   "cell_type": "markdown",
   "metadata": {},
   "source": [
    "### Punto 6 - Árbol de decisión y regresión logística\n",
    "En la celda 6 construya un árbol de decisión y una regresión logística. Para el árbol calibre al menos un parámetro y evalúe el desempeño de cada modelo usando las métricas de Accuracy y F1-Score."
   ]
  },
  {
   "cell_type": "code",
   "execution_count": 28,
   "metadata": {},
   "outputs": [
    {
     "name": "stdout",
     "output_type": "stream",
     "text": [
      "Accuracy del modelo de árbol de decisión: 0.637\n",
      "F1-Score del modelo de árbol de decisión: 0.662\n",
      "Accuracy del modelo de regresión logística: 0.613\n",
      "F1-Score del modelo de regresión logística: 0.609\n"
     ]
    }
   ],
   "source": [
    "# Celda 6\n",
    "from sklearn.tree import DecisionTreeClassifier\n",
    "from sklearn.linear_model import LogisticRegression\n",
    "from sklearn.metrics import accuracy_score, f1_score\n",
    "\n",
    "#Modelo de Arbol de decisión\n",
    "\n",
    "modelo_ArbolDesicion = DecisionTreeClassifier(max_depth=5, random_state=1)\n",
    "modelo_ArbolDesicion.fit(X_train, y_train)\n",
    "\n",
    "y_pred = modelo_ArbolDesicion.predict(X_test)\n",
    "accuracy_modelo_ArbolDesicion = accuracy_score(y_test, y_pred)\n",
    "f1_modelo_ArbolDesicion = f1_score(y_test, y_pred)\n",
    "\n",
    "print(f'Accuracy del modelo de árbol de decisión: {accuracy_modelo_ArbolDesicion:.3f}')\n",
    "print(f'F1-Score del modelo de árbol de decisión: {f1_modelo_ArbolDesicion:.3f}')\n",
    "#Modelo de Regresión logistica\n",
    "\n",
    "modelo_RegresionLogistica = LogisticRegression(random_state=1)\n",
    "modelo_RegresionLogistica.fit(X_train, y_train)\n",
    "\n",
    "y_pred = modelo_RegresionLogistica.predict(X_test)\n",
    "accuracy_modelo_RegresionLogistica = accuracy_score(y_test, y_pred)\n",
    "f1_modelo_RegresionLogistica = f1_score(y_test, y_pred)\n",
    "\n",
    "print(f'Accuracy del modelo de regresión logística: {accuracy_modelo_RegresionLogistica:.3f}')\n",
    "print(f'F1-Score del modelo de regresión logística: {f1_modelo_RegresionLogistica:.3f}')"
   ]
  },
  {
   "cell_type": "markdown",
   "metadata": {},
   "source": [
    "En este caso, es mejor que el modelo de arbol, ya que tiene un valor más alto de Accuracy (0.637) y F1-Score (0.662) en comparación con el modelo de regresión logística que tiene un Accuracy de 0.614 y F1-Score de 0.609."
   ]
  },
  {
   "cell_type": "markdown",
   "metadata": {},
   "source": [
    "### Punto 7 - Votación Mayoritaria\n",
    "En la celda 7 elabore un esamble con la metodología de **Votación mayoritaria** compuesto por 300 muestras bagged para cada uno de los siguientes escenarios:\n",
    "\n",
    "-100 árboles de decisión donde max_depth tome un valor de su elección\\\n",
    "-100 árboles de decisión donde min_samples_leaf tome un valor de su elección\\\n",
    "-100 regresiones logísticas\n",
    "\n",
    "Evalúe cada uno de los tres modelos de manera independiente utilizando las métricas de Accuracy y F1-Score, luego evalúe el ensamble de modelos y compare los resultados. "
   ]
  },
  {
   "cell_type": "code",
   "execution_count": 29,
   "metadata": {
    "scrolled": true
   },
   "outputs": [
    {
     "name": "stdout",
     "output_type": "stream",
     "text": [
      "DecisionTreeClassifier Accuracy: 0.6373333333333333 F1-Score: 0.6616915422885573\n",
      "DecisionTreeClassifier Accuracy: 0.5406666666666666 F1-Score: 0.5440105890138981\n",
      "LogisticRegression Accuracy: 0.6126666666666667 F1-Score: 0.6092804303967719\n",
      "Ensamblaje Accuracy: 0.6593333333333333 F1-Score: 0.6609157266091572\n"
     ]
    }
   ],
   "source": [
    "# Celda 7\n",
    "from sklearn.ensemble import BaggingClassifier, VotingClassifier\n",
    "\n",
    "# Definición de los modelos\n",
    "arbol_max = DecisionTreeClassifier(max_depth=5)\n",
    "arbol_min= DecisionTreeClassifier(min_samples_leaf=5)\n",
    "RegresionLogistica = LogisticRegression()\n",
    "\n",
    "# Entrenamiento de los modelos y evaluación del rendimiento\n",
    "for modelo_n in (arbol_max, arbol_min, RegresionLogistica):\n",
    "    modelo_n.fit(X_train, y_train)\n",
    "    y_pred = modelo_n.predict(X_test)\n",
    "    acc = accuracy_score(y_test, y_pred)\n",
    "    f1 = f1_score(y_test, y_pred)\n",
    "    print(modelo_n.__class__.__name__, \"Accuracy:\", acc, \"F1-Score:\", f1)\n",
    "\n",
    "# Creación del ensamble de modelos y evaluación del rendimiento\n",
    "arbol_max_bagging1 = BaggingClassifier(arbol_max, n_estimators=100, random_state=1)\n",
    "arbol_min_bagging2 = BaggingClassifier(arbol_min, n_estimators=100, random_state=1)\n",
    "ensemble = VotingClassifier(estimators=[('arbol_max', arbol_max_bagging1), ('arbol_min', arbol_min_bagging2), ('RegresionLogistica',RegresionLogistica)], voting='hard')\n",
    "ensemble.fit(X_train, y_train)\n",
    "y_pred = ensemble.predict(X_test)\n",
    "acc = accuracy_score(y_test, y_pred)\n",
    "f1 = f1_score(y_test, y_pred)\n",
    "print(\"Ensamblaje Accuracy:\", acc, \"F1-Score:\", f1)"
   ]
  },
  {
   "cell_type": "markdown",
   "metadata": {},
   "source": [
    "### Punto 8 - Votación Ponderada\n",
    "En la celda 8 elabore un ensamble con la metodología de **Votación ponderada** compuesto por 300 muestras bagged para los mismos tres escenarios del punto 7. Evalúe los modelos utilizando las métricas de Accuracy y F1-Score"
   ]
  },
  {
   "cell_type": "code",
   "execution_count": 30,
   "metadata": {},
   "outputs": [
    {
     "name": "stdout",
     "output_type": "stream",
     "text": [
      "arbol_max_VP (max_depth=7) Accuracy: 0.664 F1-Score: 0.6666666666666666\n",
      "arbol_min_VP (min_samples_leaf=50) Accuracy: 0.664 F1-Score: 0.6648936170212766\n",
      "RegresionLogistica_VP Accuracy: 0.6206666666666667 F1-Score: 0.6163182737693863\n",
      "Ensamble ponderado Accuracy: 0.6633333333333333 F1-Score: 0.6640053226879573\n"
     ]
    }
   ],
   "source": [
    "# Celda 8\n",
    "# Definición de los modelos base\n",
    "arbol_max_VP = DecisionTreeClassifier(max_depth=7, random_state=1)\n",
    "arbol_min_VP = DecisionTreeClassifier(min_samples_leaf=50, random_state=1)\n",
    "RegresionLogistica_VP = LogisticRegression(random_state=1)\n",
    "\n",
    "# Definición de los modelos de ensamble\n",
    "arbol_max_VP = BaggingClassifier(base_estimator=arbol_max_VP, n_estimators=100, random_state=1)\n",
    "arbol_min_VP= BaggingClassifier(base_estimator=arbol_min_VP, n_estimators=100, random_state=1)\n",
    "RegresionLogistica_VP = BaggingClassifier(base_estimator=RegresionLogistica_VP, n_estimators=100, random_state=1)\n",
    "\n",
    "# Entrenamiento de los modelos base y evaluación de su desempeño\n",
    "arbol_max_VP.fit(X_train, y_train)\n",
    "arbol_min_VP.fit(X_train, y_train)\n",
    "RegresionLogistica_VP.fit(X_train, y_train)\n",
    "\n",
    "arbol_max_VP_pred = arbol_max_VP.predict(X_test)\n",
    "arbol_min_VP_pred = arbol_min_VP.predict(X_test)\n",
    "RegresionLogistica_VP_pred = RegresionLogistica_VP.predict(X_test)\n",
    "\n",
    "print(\"arbol_max_VP (max_depth=7) Accuracy:\", accuracy_score(y_test, arbol_max_VP_pred),\n",
    "      \"F1-Score:\", f1_score(y_test, arbol_max_VP_pred))\n",
    "print(\"arbol_min_VP (min_samples_leaf=50) Accuracy:\", accuracy_score(y_test, arbol_min_VP_pred),\n",
    "      \"F1-Score:\", f1_score(y_test, arbol_min_VP_pred))\n",
    "print(\"RegresionLogistica_VP Accuracy:\", accuracy_score(y_test, RegresionLogistica_VP_pred),\n",
    "      \"F1-Score:\", f1_score(y_test, RegresionLogistica_VP_pred))\n",
    "\n",
    "# Ensamble de modelos por Votación ponderada\n",
    "from sklearn.ensemble import VotingClassifier\n",
    "\n",
    "models = [('arbol_max_VP', arbol_max_VP), ('arbol_min_VP', arbol_min_VP), ('RegresionLogistica_VP', RegresionLogistica_VP)]\n",
    "\n",
    "voting_weighted = VotingClassifier(estimators=models, voting='soft', weights=[0.4, 0.4, 0.2])\n",
    "voting_weighted.fit(X_train, y_train)\n",
    "weighted_pred = voting_weighted.predict(X_test)\n",
    "\n",
    "print(\"Ensamble ponderado Accuracy:\", accuracy_score(y_test, weighted_pred),\n",
    "      \"F1-Score:\", f1_score(y_test, weighted_pred))"
   ]
  },
  {
   "cell_type": "markdown",
   "metadata": {},
   "source": [
    "### Punto 9 - Comparación y análisis de resultados\n",
    "En la celda 9 comente sobre los resultados obtenidos con las metodologías usadas en los puntos 7 y 8, compare los resultados y enuncie posibles ventajas o desventajas de cada una de ellas."
   ]
  },
  {
   "cell_type": "markdown",
   "metadata": {},
   "source": [
    "#### Celda 9\n",
    "\n",
    "En ambos casos de ensamblajes los resultados mejoraron significativamente tanto en accuracy como en F-1. Aunque con votacion ponderada se tuvo un mejor resultado."
   ]
  }
 ],
 "metadata": {
  "kernelspec": {
   "display_name": "Python 3 (ipykernel)",
   "language": "python",
   "name": "python3"
  },
  "language_info": {
   "codemirror_mode": {
    "name": "ipython",
    "version": 3
   },
   "file_extension": ".py",
   "mimetype": "text/x-python",
   "name": "python",
   "nbconvert_exporter": "python",
   "pygments_lexer": "ipython3",
   "version": "3.9.12"
  }
 },
 "nbformat": 4,
 "nbformat_minor": 4
}
